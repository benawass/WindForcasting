{
  "cells": [
    {
      "cell_type": "code",
      "execution_count": 2,
      "id": "a0d241dc",
      "metadata": {
        "id": "a0d241dc",
        "outputId": "b616e70d-5b44-44d8-9df9-4abb9f45a238",
        "colab": {
          "base_uri": "https://localhost:8080/"
        }
      },
      "outputs": [
        {
          "output_type": "stream",
          "name": "stdout",
          "text": [
            "Colab Working!\n"
          ]
        }
      ],
      "source": [
        "#hello world\n",
        "\n",
        "#This is written in colab\n",
        "print('Colab Working!')"
      ]
    }
  ],
  "metadata": {
    "language_info": {
      "name": "python"
    },
    "colab": {
      "provenance": []
    },
    "kernelspec": {
      "name": "python3",
      "display_name": "Python 3"
    }
  },
  "nbformat": 4,
  "nbformat_minor": 5
}