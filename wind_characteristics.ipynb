{
  "cells": [
    {
      "cell_type": "code",
      "execution_count": 25,
      "id": "a0d241dc",
      "metadata": {
        "colab": {
          "base_uri": "https://localhost:8080/"
        },
        "id": "a0d241dc",
        "outputId": "8fa449a6-aa6c-41f0-8698-d34183ea153a"
      },
      "outputs": [
        {
          "output_type": "stream",
          "name": "stdout",
          "text": [
            "Average wind speed: 7.56 m/s\n",
            "Standard deviation of wind speed: 4.23 m/s\n",
            "Average Power Density 541.25 W/m^2\n",
            "Average Energy Density 1.64e+10 J/m^2\n",
            "Average Theoretical Power 1492.18 KW\n",
            "Average Actual Power 1307.68 KW\n"
          ]
        }
      ],
      "source": [
        "import pandas as pd\n",
        "\n",
        "air_density = 1.225 # kg/m^3\n",
        "\n",
        "\n",
        "def power_per_unit_area(air_density, air_velocity):\n",
        "  return 0.5 * air_density * air_velocity**3\n",
        "\n",
        "# Data Analysis\n",
        "df = pd.read_csv('T1.csv')\n",
        "\n",
        "avg_wind_speed = df['Wind Speed (m/s)'].mean()\n",
        "std_wind_speed = df['Wind Speed (m/s)'].std()\n",
        "\n",
        "# Avg Power density\n",
        "df['Wind Speed Cubed'] = df['Wind Speed (m/s)']**3\n",
        "avg_wind_speed_cubed = df['Wind Speed Cubed'].mean()\n",
        "avg_power_density = 0.5 * air_density * avg_wind_speed_cubed\n",
        "\n",
        "# Avg Energy Density\n",
        "time_interval = 10*60;\n",
        "avg_energy_density = avg_power_density * len(df.index) * time_interval\n",
        "\n",
        "# Avg Theoretical Power\n",
        "avg_theoretical_power = df['Theoretical_Power_Curve (KWh)'].mean()\n",
        "\n",
        "# Avg Actual Power\n",
        "avg_actual_power = df['LV ActivePower (kW)'].mean()\n",
        "\n",
        "# Print\n",
        "print(f'Average wind speed: {avg_wind_speed:.2f} m/s')\n",
        "print(f'Standard deviation of wind speed: {std_wind_speed:.2f} m/s')\n",
        "print(f'Average Power Density {avg_power_density:.2f} W/m^2')\n",
        "print(f'Average Energy Density {avg_energy_density:.2e} J/m^2')\n",
        "print(f'Average Theoretical Power {avg_theoretical_power:.2f} KW')\n",
        "print(f'Average Actual Power {avg_actual_power:.2f} KW')"
      ]
    },
    {
      "cell_type": "code",
      "source": [],
      "metadata": {
        "colab": {
          "base_uri": "https://localhost:8080/"
        },
        "id": "yp1rbWxNzi_Q",
        "outputId": "4812dbb9-2759-4000-f5d9-fdcaf397621d"
      },
      "id": "yp1rbWxNzi_Q",
      "execution_count": 22,
      "outputs": [
        {
          "output_type": "stream",
          "name": "stdout",
          "text": [
            "<class 'pandas.core.frame.DataFrame'>\n",
            "RangeIndex: 50530 entries, 0 to 50529\n",
            "Data columns (total 6 columns):\n",
            " #   Column                         Non-Null Count  Dtype  \n",
            "---  ------                         --------------  -----  \n",
            " 0   Date/Time                      50530 non-null  object \n",
            " 1   LV ActivePower (kW)            50530 non-null  float64\n",
            " 2   Wind Speed (m/s)               50530 non-null  float64\n",
            " 3   Theoretical_Power_Curve (KWh)  50530 non-null  float64\n",
            " 4   Wind Direction (°)             50530 non-null  float64\n",
            " 5   Wind Speed Cubed               50530 non-null  float64\n",
            "dtypes: float64(5), object(1)\n",
            "memory usage: 2.3+ MB\n"
          ]
        }
      ]
    },
    {
      "cell_type": "code",
      "metadata": {
        "id": "1cf59e8e",
        "outputId": "21aacb8c-59f1-4c67-e7a3-b09cbe628697",
        "colab": {
          "base_uri": "https://localhost:8080/"
        }
      },
      "source": [],
      "id": "1cf59e8e",
      "execution_count": 12,
      "outputs": [
        {
          "output_type": "stream",
          "name": "stdout",
          "text": [
            "Average wind speed cubed: 883.67 (m/s)^3\n",
            "Average power density (complex method): 541.25 W/m^2\n"
          ]
        }
      ]
    }
  ],
  "metadata": {
    "language_info": {
      "name": "python"
    },
    "colab": {
      "provenance": []
    },
    "kernelspec": {
      "name": "python3",
      "display_name": "Python 3"
    }
  },
  "nbformat": 4,
  "nbformat_minor": 5
}